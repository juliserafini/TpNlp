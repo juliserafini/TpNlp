{
 "cells": [
  {
   "cell_type": "code",
   "execution_count": 1,
   "id": "f0fc6ff8",
   "metadata": {},
   "outputs": [],
   "source": [
    "import nltk"
   ]
  },
  {
   "cell_type": "code",
   "execution_count": 2,
   "id": "77d6c954",
   "metadata": {},
   "outputs": [],
   "source": [
    "from nltk.corpus import wordnet as wn"
   ]
  },
  {
   "cell_type": "code",
   "execution_count": 3,
   "id": "a024e7c7",
   "metadata": {},
   "outputs": [
    {
     "data": {
      "text/plain": [
       "[Synset('dog.n.01'),\n",
       " Synset('frump.n.01'),\n",
       " Synset('dog.n.03'),\n",
       " Synset('cad.n.01'),\n",
       " Synset('frank.n.02'),\n",
       " Synset('pawl.n.01'),\n",
       " Synset('andiron.n.01'),\n",
       " Synset('chase.v.01')]"
      ]
     },
     "execution_count": 3,
     "metadata": {},
     "output_type": "execute_result"
    }
   ],
   "source": [
    "wn.synsets('dog')"
   ]
  },
  {
   "cell_type": "code",
   "execution_count": 4,
   "id": "a5f3cb52",
   "metadata": {},
   "outputs": [
    {
     "data": {
      "text/plain": [
       "[Synset('chase.v.01')]"
      ]
     },
     "execution_count": 4,
     "metadata": {},
     "output_type": "execute_result"
    }
   ],
   "source": [
    "wn.synsets('dog', pos=wn.VERB)"
   ]
  },
  {
   "cell_type": "code",
   "execution_count": 5,
   "id": "2443e3fd",
   "metadata": {},
   "outputs": [
    {
     "data": {
      "text/plain": [
       "Synset('frump.n.01')"
      ]
     },
     "execution_count": 5,
     "metadata": {},
     "output_type": "execute_result"
    }
   ],
   "source": [
    "wn.synset('dog.n.01')\n",
    "wn.synset('dog.n.02')\n",
    "wn.synset('frump.n.01')"
   ]
  },
  {
   "cell_type": "code",
   "execution_count": 6,
   "id": "a3c1915c",
   "metadata": {},
   "outputs": [
    {
     "data": {
      "text/plain": [
       "'a member of the genus Canis (probably descended from the common wolf) that has been domesticated by man since prehistoric times; occurs in many breeds'"
      ]
     },
     "execution_count": 6,
     "metadata": {},
     "output_type": "execute_result"
    }
   ],
   "source": [
    "wn.synset('dog.n.01').definition()"
   ]
  },
  {
   "cell_type": "code",
   "execution_count": 7,
   "id": "0cfdbbf2",
   "metadata": {},
   "outputs": [
    {
     "data": {
      "text/plain": [
       "'a dull unattractive unpleasant girl or woman'"
      ]
     },
     "execution_count": 7,
     "metadata": {},
     "output_type": "execute_result"
    }
   ],
   "source": [
    "wn.synset('dog.n.02').definition()"
   ]
  },
  {
   "cell_type": "code",
   "execution_count": 8,
   "id": "9b352e9e",
   "metadata": {},
   "outputs": [
    {
     "data": {
      "text/plain": [
       "[Lemma('dog.n.01.dog'),\n",
       " Lemma('dog.n.01.domestic_dog'),\n",
       " Lemma('dog.n.01.Canis_familiaris')]"
      ]
     },
     "execution_count": 8,
     "metadata": {},
     "output_type": "execute_result"
    }
   ],
   "source": [
    "wn.synset('dog.n.01').lemmas()"
   ]
  },
  {
   "cell_type": "code",
   "execution_count": 9,
   "id": "a20f7364",
   "metadata": {},
   "outputs": [
    {
     "data": {
      "text/plain": [
       "[Lemma('frump.n.01.frump'), Lemma('frump.n.01.dog')]"
      ]
     },
     "execution_count": 9,
     "metadata": {},
     "output_type": "execute_result"
    }
   ],
   "source": [
    "wn.synset('dog.n.02').lemmas()"
   ]
  },
  {
   "cell_type": "code",
   "execution_count": 10,
   "id": "461d6729",
   "metadata": {},
   "outputs": [],
   "source": [
    "dog = wn.synset('dog.n.01')"
   ]
  },
  {
   "cell_type": "code",
   "execution_count": 11,
   "id": "85c4e7ae",
   "metadata": {},
   "outputs": [
    {
     "data": {
      "text/plain": [
       "[Synset('canine.n.02'), Synset('domestic_animal.n.01')]"
      ]
     },
     "execution_count": 11,
     "metadata": {},
     "output_type": "execute_result"
    }
   ],
   "source": [
    "dog.hypernyms()"
   ]
  },
  {
   "cell_type": "code",
   "execution_count": 12,
   "id": "59fce2c4",
   "metadata": {},
   "outputs": [
    {
     "data": {
      "text/plain": [
       "[Synset('basenji.n.01'),\n",
       " Synset('corgi.n.01'),\n",
       " Synset('cur.n.01'),\n",
       " Synset('dalmatian.n.02'),\n",
       " Synset('great_pyrenees.n.01'),\n",
       " Synset('griffon.n.02'),\n",
       " Synset('hunting_dog.n.01'),\n",
       " Synset('lapdog.n.01'),\n",
       " Synset('leonberg.n.01'),\n",
       " Synset('mexican_hairless.n.01'),\n",
       " Synset('newfoundland.n.01'),\n",
       " Synset('pooch.n.01'),\n",
       " Synset('poodle.n.01'),\n",
       " Synset('pug.n.01'),\n",
       " Synset('puppy.n.01'),\n",
       " Synset('spitz.n.01'),\n",
       " Synset('toy_dog.n.01'),\n",
       " Synset('working_dog.n.01')]"
      ]
     },
     "execution_count": 12,
     "metadata": {},
     "output_type": "execute_result"
    }
   ],
   "source": [
    "dog.hyponyms()"
   ]
  },
  {
   "cell_type": "code",
   "execution_count": 13,
   "id": "808f240a",
   "metadata": {},
   "outputs": [],
   "source": [
    "good = wn.synset('good.a.01')"
   ]
  },
  {
   "cell_type": "code",
   "execution_count": 14,
   "id": "4d082e4d",
   "metadata": {},
   "outputs": [
    {
     "data": {
      "text/plain": [
       "[Lemma('good.a.01.good')]"
      ]
     },
     "execution_count": 14,
     "metadata": {},
     "output_type": "execute_result"
    }
   ],
   "source": [
    "good.lemmas()"
   ]
  },
  {
   "cell_type": "code",
   "execution_count": 15,
   "id": "6223ccfa",
   "metadata": {},
   "outputs": [],
   "source": [
    "g0 = good.lemmas()[0]"
   ]
  },
  {
   "cell_type": "code",
   "execution_count": 16,
   "id": "0624cc0b",
   "metadata": {},
   "outputs": [
    {
     "data": {
      "text/plain": [
       "[Lemma('bad.a.01.bad')]"
      ]
     },
     "execution_count": 16,
     "metadata": {},
     "output_type": "execute_result"
    }
   ],
   "source": [
    "g0.antonyms()"
   ]
  },
  {
   "cell_type": "code",
   "execution_count": 17,
   "id": "cbb7bcd0",
   "metadata": {},
   "outputs": [
    {
     "data": {
      "text/plain": [
       "[Synset('flag.n.07')]"
      ]
     },
     "execution_count": 17,
     "metadata": {},
     "output_type": "execute_result"
    }
   ],
   "source": [
    "dog.part_meronyms()"
   ]
  },
  {
   "cell_type": "code",
   "execution_count": 18,
   "id": "c3a024a9",
   "metadata": {},
   "outputs": [
    {
     "data": {
      "text/plain": [
       "[]"
      ]
     },
     "execution_count": 18,
     "metadata": {},
     "output_type": "execute_result"
    }
   ],
   "source": [
    "dog.member_meronyms()"
   ]
  },
  {
   "cell_type": "code",
   "execution_count": 19,
   "id": "60fb5cd3",
   "metadata": {},
   "outputs": [
    {
     "data": {
      "text/plain": [
       "[]"
      ]
     },
     "execution_count": 19,
     "metadata": {},
     "output_type": "execute_result"
    }
   ],
   "source": [
    "dog.part_holonyms()"
   ]
  },
  {
   "cell_type": "code",
   "execution_count": 20,
   "id": "2d8423ad",
   "metadata": {},
   "outputs": [
    {
     "data": {
      "text/plain": [
       "[Synset('canis.n.01'), Synset('pack.n.06')]"
      ]
     },
     "execution_count": 20,
     "metadata": {},
     "output_type": "execute_result"
    }
   ],
   "source": [
    "dog.member_holonyms()"
   ]
  },
  {
   "cell_type": "code",
   "execution_count": 36,
   "id": "f8be71d5",
   "metadata": {},
   "outputs": [
    {
     "data": {
      "text/plain": [
       "'stratified stone that splits into pieces suitable as paving stones'"
      ]
     },
     "execution_count": 36,
     "metadata": {},
     "output_type": "execute_result"
    }
   ],
   "source": [
    "wn.synset('flag.n.06').definition()"
   ]
  },
  {
   "cell_type": "code",
   "execution_count": 22,
   "id": "07cce593",
   "metadata": {},
   "outputs": [
    {
     "data": {
      "text/plain": [
       "'type genus of the Canidae: domestic and wild dogs; wolves; jackals'"
      ]
     },
     "execution_count": 22,
     "metadata": {},
     "output_type": "execute_result"
    }
   ],
   "source": [
    "wn.synset('canis.n.01').definition()"
   ]
  },
  {
   "cell_type": "code",
   "execution_count": 23,
   "id": "0925a764",
   "metadata": {},
   "outputs": [
    {
     "data": {
      "text/plain": [
       "'a group of hunting animals'"
      ]
     },
     "execution_count": 23,
     "metadata": {},
     "output_type": "execute_result"
    }
   ],
   "source": [
    "wn.synset('pack.n.06').definition()"
   ]
  },
  {
   "cell_type": "code",
   "execution_count": 24,
   "id": "b288f09e",
   "metadata": {},
   "outputs": [
    {
     "data": {
      "text/plain": [
       "[Synset('bank.n.01'),\n",
       " Synset('depository_financial_institution.n.01'),\n",
       " Synset('bank.n.03'),\n",
       " Synset('bank.n.04'),\n",
       " Synset('bank.n.05'),\n",
       " Synset('bank.n.06'),\n",
       " Synset('bank.n.07'),\n",
       " Synset('savings_bank.n.02'),\n",
       " Synset('bank.n.09'),\n",
       " Synset('bank.n.10'),\n",
       " Synset('bank.v.01'),\n",
       " Synset('bank.v.02'),\n",
       " Synset('bank.v.03'),\n",
       " Synset('bank.v.04'),\n",
       " Synset('bank.v.05'),\n",
       " Synset('deposit.v.02'),\n",
       " Synset('bank.v.07'),\n",
       " Synset('trust.v.01')]"
      ]
     },
     "execution_count": 24,
     "metadata": {},
     "output_type": "execute_result"
    }
   ],
   "source": [
    "# En este contexto solo me sale pensar en el banco de dinero\n",
    "wn.synsets('bank')"
   ]
  },
  {
   "cell_type": "code",
   "execution_count": 25,
   "id": "606afa6f",
   "metadata": {},
   "outputs": [],
   "source": [
    "from nltk.wsd import lesk\n",
    "from nltk import word_tokenize "
   ]
  },
  {
   "cell_type": "code",
   "execution_count": 26,
   "id": "669d89ba",
   "metadata": {},
   "outputs": [
    {
     "name": "stdout",
     "output_type": "stream",
     "text": [
      "Synset('bank.n.05')\n"
     ]
    }
   ],
   "source": [
    "s = \"The bank can guarantee deposits will eventually cover future tuition costs because it invests in adjustable-rate mortgage securities\"\n",
    "s_tok = word_tokenize(s)\n",
    "print(lesk(s_tok,'bank','n'))"
   ]
  },
  {
   "cell_type": "code",
   "execution_count": 27,
   "id": "a2b7bf83",
   "metadata": {},
   "outputs": [
    {
     "data": {
      "text/plain": [
       "'a supply or stock held in reserve for future use (especially in emergencies)'"
      ]
     },
     "execution_count": 27,
     "metadata": {},
     "output_type": "execute_result"
    }
   ],
   "source": [
    "wn.synset('bank.n.05').definition()"
   ]
  },
  {
   "cell_type": "code",
   "execution_count": 28,
   "id": "ef44b187",
   "metadata": {},
   "outputs": [
    {
     "data": {
      "text/plain": [
       "{'deposits'}"
      ]
     },
     "execution_count": 28,
     "metadata": {},
     "output_type": "execute_result"
    }
   ],
   "source": [
    "l = word_tokenize((wn.synset('bank.n.05').definition()))\n",
    "m = word_tokenize((wn.synset('bank.n.02').definition()))\n",
    "k = set(s_tok)\n",
    "k.intersection(l)\n",
    "k.intersection(m)"
   ]
  },
  {
   "cell_type": "code",
   "execution_count": 29,
   "id": "f980edf8",
   "metadata": {},
   "outputs": [],
   "source": [
    "l = word_tokenize((wn.synset('bank.n.05').definition()))\n",
    "m = word_tokenize((wn.synset('bank.n.02').definition()))\n",
    "k = set(s_tok)"
   ]
  },
  {
   "cell_type": "code",
   "execution_count": 30,
   "id": "0016f10f",
   "metadata": {},
   "outputs": [
    {
     "data": {
      "text/plain": [
       "{'future', 'in'}"
      ]
     },
     "execution_count": 30,
     "metadata": {},
     "output_type": "execute_result"
    }
   ],
   "source": [
    "k.intersection(l)"
   ]
  },
  {
   "cell_type": "code",
   "execution_count": 31,
   "id": "18b67dbf",
   "metadata": {},
   "outputs": [
    {
     "data": {
      "text/plain": [
       "{'deposits'}"
      ]
     },
     "execution_count": 31,
     "metadata": {},
     "output_type": "execute_result"
    }
   ],
   "source": [
    "k.intersection(m)"
   ]
  },
  {
   "cell_type": "code",
   "execution_count": 32,
   "id": "5d99059f",
   "metadata": {},
   "outputs": [
    {
     "name": "stdout",
     "output_type": "stream",
     "text": [
      "Synset('savings_bank.n.02')\n"
     ]
    },
    {
     "data": {
      "text/plain": [
       "{'money', 'the'}"
      ]
     },
     "execution_count": 32,
     "metadata": {},
     "output_type": "execute_result"
    }
   ],
   "source": [
    "ejemplo = \"I went to the bank to deposit some money\"\n",
    "ejemplo_tok = word_tokenize(ejemplo)\n",
    "print(lesk(ejemplo_tok,'bank','n')) # Synset('savings_bank.n.02')\\\n",
    "l = word_tokenize((wn.synset('savings_bank.n.02').definition()))\n",
    "k = set(ejemplo_tok)\n",
    "k.intersection(l)"
   ]
  },
  {
   "cell_type": "code",
   "execution_count": 53,
   "id": "be11bad5",
   "metadata": {},
   "outputs": [
    {
     "name": "stdout",
     "output_type": "stream",
     "text": [
      "Synset('produce.v.02')\n"
     ]
    },
    {
     "data": {
      "text/plain": [
       "{'a'}"
      ]
     },
     "execution_count": 53,
     "metadata": {},
     "output_type": "execute_result"
    }
   ],
   "source": [
    "ejemplo = \"She created a big mess of the birthday cake\"\n",
    "ejemplo_tok = word_tokenize(ejemplo)\n",
    "print(lesk(ejemplo_tok,'create','v')) # Synset('produce.v.02')\n",
    "l = word_tokenize((wn.synset('produce.v.02').definition()))\n",
    "k = set(ejemplo_tok)\n",
    "k.intersection(l)"
   ]
  },
  {
   "cell_type": "code",
   "execution_count": 34,
   "id": "1eae8b0f",
   "metadata": {},
   "outputs": [
    {
     "name": "stdout",
     "output_type": "stream",
     "text": [
      "Synset('interest.n.04')\n"
     ]
    },
    {
     "data": {
      "text/plain": [
       "{'of', 'the'}"
      ]
     },
     "execution_count": 34,
     "metadata": {},
     "output_type": "execute_result"
    }
   ],
   "source": [
    "ejemplo = \"In the interest of your safety, please wear your seatbelt\"\n",
    "ejemplo_tok = word_tokenize(ejemplo)\n",
    "print(lesk(ejemplo_tok,'interest','n')) # Synset('interest.n.04')\n",
    "l = word_tokenize((wn.synset('interest.n.04').definition()))\n",
    "k = set(ejemplo_tok)\n",
    "k.intersection(l)"
   ]
  },
  {
   "cell_type": "code",
   "execution_count": 49,
   "id": "c66fe962",
   "metadata": {},
   "outputs": [
    {
     "name": "stdout",
     "output_type": "stream",
     "text": [
      "Synset('toast.v.02')\n"
     ]
    },
    {
     "data": {
      "text/plain": [
       "set()"
      ]
     },
     "execution_count": 49,
     "metadata": {},
     "output_type": "execute_result"
    }
   ],
   "source": [
    "ejemplo = \"I drank some ice cold water\"\n",
    "ejemplo_tok = word_tokenize(ejemplo)\n",
    "print(lesk(ejemplo_tok,'drank','v')) # Synset('toast.v.02')\n",
    "l = word_tokenize((wn.synset('toast.v.02').definition()))\n",
    "k = set(ejemplo_tok)\n",
    "k.intersection(l)"
   ]
  },
  {
   "cell_type": "code",
   "execution_count": 54,
   "id": "d8e67c26",
   "metadata": {},
   "outputs": [],
   "source": [
    "from nltk.stem import WordNetLemmatizer\n",
    "wnLemmatizer = WordNetLemmatizer()"
   ]
  },
  {
   "cell_type": "code",
   "execution_count": 59,
   "id": "5063d5fd",
   "metadata": {},
   "outputs": [
    {
     "data": {
      "text/plain": [
       "'create'"
      ]
     },
     "execution_count": 59,
     "metadata": {},
     "output_type": "execute_result"
    }
   ],
   "source": [
    "wnLemmatizer.lemmatize('creating','v')"
   ]
  },
  {
   "cell_type": "code",
   "execution_count": 62,
   "id": "8e1adce0",
   "metadata": {},
   "outputs": [
    {
     "data": {
      "text/plain": [
       "[('I', 'PRP'),\n",
       " ('went', 'VBD'),\n",
       " ('to', 'TO'),\n",
       " ('the', 'DT'),\n",
       " ('bank', 'NN'),\n",
       " ('to', 'TO'),\n",
       " ('deposit', 'VB'),\n",
       " ('some', 'DT'),\n",
       " ('money', 'NN'),\n",
       " ('.', '.')]"
      ]
     },
     "execution_count": 62,
     "metadata": {},
     "output_type": "execute_result"
    }
   ],
   "source": [
    "nltk.pos_tag(word_tokenize(\"I went to the bank to deposit some money.\"))"
   ]
  },
  {
   "cell_type": "code",
   "execution_count": 72,
   "id": "00a8e217",
   "metadata": {},
   "outputs": [],
   "source": [
    "def funcionCoincidencia(primerFrase, segundaFrase):\n",
    "    primerFraseTaggeada = nltk.pos_tag(word_tokenize(primerFrase))\n",
    "    primerFraseLemmatizada = []\n",
    "    segundaFraseTaggeada = nltk.pos_tag(word_tokenize(segundaFrase))\n",
    "    segundaFraseLemmatizada = []\n",
    "    for (a,b) in primerFraseTaggeada:\n",
    "        if(b[0].lower() == 'n' or b[0].lower() == 'v'):\n",
    "            lemmas = wnLemmatizer.lemmatize(a,b[0].lower())\n",
    "            primerFraseLemmatizada.append(lemmas)\n",
    "    for (a,b) in segundaFraseTaggeada:\n",
    "        if(b[0].lower() == 'n' or b[0].lower() == 'v'):\n",
    "            lemmas = wnLemmatizer.lemmatize(a,b[0].lower())\n",
    "            segundaFraseLemmatizada.append(lemmas)\n",
    "    primerFraseLemmatizadaSet = set(primerFraseLemmatizada)\n",
    "    segundaFraseLemmatizadaSet = set(segundaFraseLemmatizada)\n",
    "    return primerFraseLemmatizadaSet.intersection(segundaFraseLemmatizadaSet)"
   ]
  },
  {
   "cell_type": "code",
   "execution_count": 73,
   "id": "a22a3e22",
   "metadata": {},
   "outputs": [
    {
     "data": {
      "text/plain": [
       "{'bank', 'go'}"
      ]
     },
     "execution_count": 73,
     "metadata": {},
     "output_type": "execute_result"
    }
   ],
   "source": [
    "funcionCoincidencia(\"i went to the bank\", \"we go to the banks\")"
   ]
  },
  {
   "cell_type": "code",
   "execution_count": null,
   "id": "b7132f7f",
   "metadata": {},
   "outputs": [],
   "source": []
  }
 ],
 "metadata": {
  "kernelspec": {
   "display_name": "Python 3",
   "language": "python",
   "name": "python3"
  },
  "language_info": {
   "codemirror_mode": {
    "name": "ipython",
    "version": 3
   },
   "file_extension": ".py",
   "mimetype": "text/x-python",
   "name": "python",
   "nbconvert_exporter": "python",
   "pygments_lexer": "ipython3",
   "version": "3.9.4"
  }
 },
 "nbformat": 4,
 "nbformat_minor": 5
}
